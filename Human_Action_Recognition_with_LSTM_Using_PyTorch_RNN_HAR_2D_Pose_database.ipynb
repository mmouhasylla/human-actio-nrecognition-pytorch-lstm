{
  "cells": [
    {
      "cell_type": "code",
      "execution_count": null,
      "metadata": {
        "colab": {
          "base_uri": "https://localhost:8080/"
        },
        "id": "WdiSbMQFDYZm",
        "outputId": "a7239e1e-2127-4442-aeff-db201116b516"
      },
      "outputs": [
        {
          "output_type": "stream",
          "name": "stdout",
          "text": [
            "Drive already mounted at /content/drive; to attempt to forcibly remount, call drive.mount(\"/content/drive\", force_remount=True).\n"
          ]
        }
      ],
      "source": [
        "from google.colab import drive\n",
        "drive.mount('/content/drive', force_remount=False)"
      ]
    },
    {
      "cell_type": "markdown",
      "metadata": {
        "id": "GgBQWVst8uSF"
      },
      "source": [
        "## Database location\n",
        "Download first the database from  https://drive.google.com/file/d/1IuZlyNjg6DMQE3iaO1Px6h1yLKgatynt\n",
        "\n",
        "and unzip. You can use !unzip \"RNN-HAR-2D-Pose-database.zip\" "
      ]
    },
    {
      "cell_type": "code",
      "execution_count": null,
      "metadata": {
        "colab": {
          "base_uri": "https://localhost:8080/"
        },
        "id": "LIXnbBJGycEi",
        "outputId": "3c39ecd1-5bb6-42c7-fe0c-7af5c3079c69"
      },
      "outputs": [
        {
          "output_type": "stream",
          "name": "stdout",
          "text": [
            "/content/drive/MyDrive/Colab Notebooks/RNN\n"
          ]
        }
      ],
      "source": [
        "cd /content/drive/MyDrive/'Colab Notebooks'/RNN"
      ]
    },
    {
      "cell_type": "code",
      "execution_count": null,
      "metadata": {
        "colab": {
          "base_uri": "https://localhost:8080/"
        },
        "id": "8r5hzTfT_ETB",
        "outputId": "1d4fe16d-37ee-4e83-dbdf-c5f1dfe4552a"
      },
      "outputs": [
        {
          "output_type": "stream",
          "name": "stdout",
          "text": [
            " char_rnn_classification_tutorial.ipynb\n",
            " confunsion_Matrix.ipynb\n",
            "'Copia de LSTMs in PyTorch 🔥'\n",
            "'Human Action Recognition with LSTM Using PyTorch - RNN-HAR-2D-Pose-database.ipynb'\n",
            " RNN-HAR-2D-Pose-database\n",
            " save_model\n",
            " sequence_models_tutorial.ipynb\n",
            "'Time Series Prediction with LSTM Using PyTorch'\n",
            "'Tutorial 4 rnn - exercise.ipynb'\n"
          ]
        }
      ],
      "source": [
        "!ls"
      ]
    },
    {
      "cell_type": "markdown",
      "metadata": {
        "id": "8hDtAVGSz-zC"
      },
      "source": [
        "\n",
        "## Information ressources\n",
        "\n",
        "https://github.com/stuarteiffert/RNN-for-Human-Activity-Recognition-using-2D-Pose-Input\n",
        "\n",
        "https://learnopencv.com/human-action-recognition-using-detectron2-and-lstm/\n",
        "\n",
        "https://github.com/guillaume-chevalier/LSTM-Human-Activity-Recognition\n",
        "\n",
        "https://colab.research.google.com/github/dlmacedo/starter-academic/blob/master/content/courses/deeplearning/notebooks/pytorch/Time_Series_Prediction_with_LSTM_Using_PyTorch.ipynb\n",
        "\n",
        "CNN version\n",
        "https://github.com/nestiank/action-recognition-cnn-bd-lstm/tree/506ad621746af393257cdf0c533faf2526d3edbe"
      ]
    },
    {
      "cell_type": "code",
      "execution_count": null,
      "metadata": {
        "id": "ISY5LxAX0EGq"
      },
      "outputs": [],
      "source": [
        "from IPython.display import clear_output\n",
        "import matplotlib.pyplot as plt\n",
        "\n",
        "import numpy as np\n",
        "import random\n",
        "import time\n",
        "import os\n",
        "\n",
        "import torch\n",
        "import torch.nn as nn\n",
        "from torch.autograd import Variable"
      ]
    },
    {
      "cell_type": "markdown",
      "metadata": {
        "id": "qP_XQ9OFjvNW"
      },
      "source": [
        "## Monitoring the results"
      ]
    },
    {
      "cell_type": "code",
      "execution_count": null,
      "metadata": {
        "id": "8sxPHYifxyGn"
      },
      "outputs": [],
      "source": [
        "def plot(epoch, train_loss, val_loss, acc):\n",
        "    clear_output(True)\n",
        "    fig = plt.figure()\n",
        "    plt.figure(figsize=(20,5))\n",
        "    plt.subplot(131)\n",
        "    plt.plot(train_loss, label='Train_loss')\n",
        "    plt.plot(val_loss, label='Val_loss')\n",
        "    plt.legend(loc=\"best\")\n",
        "    plt.subplot(132)\n",
        "    plt.plot(acc, label='acc')\n",
        "    plt.legend(loc=\"best\")\n",
        "    plt.show()"
      ]
    },
    {
      "cell_type": "markdown",
      "metadata": {
        "id": "QQ6piWDwj26-"
      },
      "source": [
        "## Read from the database"
      ]
    },
    {
      "cell_type": "code",
      "execution_count": null,
      "metadata": {
        "id": "JLhlTd86z7Kj"
      },
      "outputs": [],
      "source": [
        "# Load the networks inputs\n",
        "def load_X(X_path, n_steps):\n",
        "    file = open(X_path, 'r')\n",
        "    X_ = np.array(\n",
        "        [elem for elem in [\n",
        "            row.split(',') for row in file\n",
        "        ]], \n",
        "        dtype=np.float32\n",
        "    )\n",
        "    file.close()\n",
        "    blocks = int(len(X_) / n_steps)\n",
        "    \n",
        "    X_ = np.array(np.split(X_,blocks))\n",
        "\n",
        "    return X_ \n",
        "\n",
        "# Load the networks outputs\n",
        "def load_y(y_path, n_steps):\n",
        "    file = open(y_path, 'r')\n",
        "    y_ = np.array(\n",
        "        [elem for elem in [\n",
        "            row.replace('  ', ' ').strip().split(' ') for row in file\n",
        "        ]], \n",
        "        dtype=np.int32\n",
        "    )\n",
        "    file.close()\n",
        "    \n",
        "    # for 0-based indexing \n",
        "    return y_ - 1"
      ]
    },
    {
      "cell_type": "markdown",
      "metadata": {
        "id": "gdLGfzOcj8-I"
      },
      "source": [
        "## Mini-bach sampling"
      ]
    },
    {
      "cell_type": "code",
      "execution_count": null,
      "metadata": {
        "id": "uQBlXauu1Nkh"
      },
      "outputs": [],
      "source": [
        "def extract_batch_size(_train, _labels, _unsampled, batch_size):\n",
        "    # Fetch a \"batch_size\" amount of data and labels from \"(X|y)_train\" data. \n",
        "    # Elements of each batch are chosen randomly, without replacement, \n",
        "    # from X_train with corresponding label from Y_train\n",
        "    # unsampled_indices keeps track of sampled data ensuring non-replacement. \n",
        "    # Resets when remaining datapoints < batch_size    \n",
        "    \n",
        "    shape = list(_train.shape)\n",
        "    shape[0] = batch_size\n",
        "    batch_s = np.empty(shape)\n",
        "    batch_labels = np.empty((batch_size,1)) \n",
        "\n",
        "    for i in range(batch_size):\n",
        "        # Loop index\n",
        "        # index = random sample from _unsampled (indices)\n",
        "        #index = random.choice(_unsampled)\n",
        "        index = np.random.choice(_unsampled, 1, replace=False)\n",
        "        #print (\"len\", len(_unsampled), \"index\", index)\n",
        "        batch_s[i] = _train[index] \n",
        "        batch_labels[i] = _labels[index]\n",
        "        _unsampled = np.setdiff1d(_unsampled, index)\n",
        "        #_unsampled.remove(index)\n",
        "        #_unsampled = np.delete(_unsampled, index)\n",
        "    return batch_s, batch_labels, _unsampled\n",
        "\n",
        "def one_hot(y_):\n",
        "    # One hot encoding of the network outputs\n",
        "    # e.g.: [[5], [0], [3]] --> [[0, 0, 0, 0, 0, 1], [1, 0, 0, 0, 0, 0], [0, 0, 0, 1, 0, 0]]\n",
        "    \n",
        "    y_ = y_.reshape(len(y_))\n",
        "    n_values = int(np.max(y_)) + 1\n",
        "    return np.eye(n_values)[np.array(y_, dtype=np.int32)]  # Returns FLOATS"
      ]
    },
    {
      "cell_type": "markdown",
      "metadata": {
        "id": "IaQuGq63mrv5"
      },
      "source": [
        "## Model"
      ]
    },
    {
      "cell_type": "code",
      "execution_count": null,
      "metadata": {
        "id": "211G7cW9mqsJ"
      },
      "outputs": [],
      "source": [
        "class LSTM(nn.Module):\n",
        "    def __init__(self, num_classes, input_size, hidden_size, num_layers):\n",
        "        super(LSTM, self).__init__()\n",
        "        \n",
        "        self.num_classes = num_classes\n",
        "        self.num_layers = num_layers\n",
        "        self.hidden_size = hidden_size\n",
        "        \n",
        "        self.lstm = nn.LSTM(input_size=input_size, hidden_size=hidden_size,\n",
        "                            num_layers=num_layers, batch_first=True)\n",
        "        \n",
        "        self.fc = nn.Linear(hidden_size, num_classes)\n",
        "        self.sm = torch.nn.Softmax(dim=1)\n",
        "\n",
        "    def forward(self, x):\n",
        "        h_0 = Variable(torch.zeros(\n",
        "            self.num_layers, x.size(0), self.hidden_size))       \n",
        "        c_0 = Variable(torch.zeros(\n",
        "            self.num_layers, x.size(0), self.hidden_size))\n",
        "        \n",
        "        # Propagate input through LSTM\n",
        "        ula, (h_out, _) = self.lstm(x, (h_0, c_0))\n",
        "        \n",
        "        h_out = h_out.view(-1, self.hidden_size)\n",
        "        \n",
        "        out = self.fc(h_out)\n",
        "        out = self.sm (out)\n",
        "  \n",
        "        return out"
      ]
    },
    {
      "cell_type": "markdown",
      "metadata": {
        "id": "LUFb12S4uFMG"
      },
      "source": [
        "## Trainning"
      ]
    },
    {
      "cell_type": "code",
      "source": [
        "# Useful Constants\n",
        "\n",
        "DATASET_PATH = \"RNN-HAR-2D-Pose-database/\"\n",
        "\n",
        "X_train_path = DATASET_PATH + \"X_train.txt\"\n",
        "X_val_path = DATASET_PATH + \"X_test.txt\"\n",
        "\n",
        "y_train_path = DATASET_PATH + \"Y_train.txt\"\n",
        "y_val_path = DATASET_PATH + \"Y_test.txt\"\n",
        "\n",
        "n_steps = 32 # 32 frames per series\n",
        "\n",
        "X_train = load_X(X_train_path, n_steps)\n",
        "X_val = load_X(X_val_path, n_steps)\n",
        "\n",
        "y_train = load_y(y_train_path, n_steps)\n",
        "y_val = load_y(y_val_path, n_steps)\n",
        "\n",
        "print ('Training_data_count =', len(X_train))\n",
        "print ('Val_data_count =', len(X_val))\n",
        "print ('N_steps =', len(X_train[0]))\n",
        "print ('N_input =', len(X_train[0][0]))"
      ],
      "metadata": {
        "colab": {
          "base_uri": "https://localhost:8080/"
        },
        "id": "Hg_PylKoELVv",
        "outputId": "cd128475-0b7c-4269-f415-b058e3e81c4a"
      },
      "execution_count": null,
      "outputs": [
        {
          "output_type": "stream",
          "name": "stdout",
          "text": [
            "Training_data_count = 22625\n",
            "Val_data_count = 5751\n",
            "N_steps = 32\n",
            "N_input = 36\n"
          ]
        }
      ]
    },
    {
      "cell_type": "code",
      "source": [
        "# Optimization\n",
        "batch_size = 4096"
      ],
      "metadata": {
        "id": "nEp_-xKoEXX-"
      },
      "execution_count": null,
      "outputs": []
    },
    {
      "cell_type": "code",
      "execution_count": null,
      "metadata": {
        "colab": {
          "base_uri": "https://localhost:8080/",
          "height": 372
        },
        "id": "3JWTMhsIleXi",
        "outputId": "cbeca33e-f9a4-45c0-d69e-284470a98a9f"
      },
      "outputs": [
        {
          "output_type": "display_data",
          "data": {
            "text/plain": [
              "<Figure size 432x288 with 0 Axes>"
            ]
          },
          "metadata": {}
        },
        {
          "output_type": "display_data",
          "data": {
            "text/plain": [
              "<Figure size 1440x360 with 2 Axes>"
            ],
            "image/png": "[encoded data removed]"
          },
          "metadata": {
            "needs_background": "light"
          }
        },
        {
          "output_type": "stream",
          "name": "stdout",
          "text": [
            "Best result : 0.98130, at epoch : 2470\n",
            "Running mean accuracy  : 0.98137\n"
          ]
        }
      ],
      "source": [
        "#time_start = time.time()\n",
        "unsampled_indices = range(0,len(X_train))\n",
        "unsampled_indices_val = range(0,len(X_val))\n",
        "\n",
        "# Monitoring\n",
        "val_interval = 10\n",
        "plot_interval = 10\n",
        "\n",
        "best_epoch = 0\n",
        "best_result = -np.Inf\n",
        "\n",
        "save_path = './save_model/'\n",
        "\n",
        "train_losses = []\n",
        "val_losses = []\n",
        "accuracies = []\n",
        "\n",
        "## Hyperparameters\n",
        "num_epochs = 2500\n",
        "\n",
        "# Optimization\n",
        "batch_size = 4096\n",
        "learning_rate = 0.0002\n",
        "\n",
        "# NN model\n",
        "input_size = 36\n",
        "hidden_size = 128\n",
        "num_layers = 1\n",
        "num_classes = 6\n",
        "\n",
        "lstm = LSTM(num_classes, input_size, hidden_size, num_layers)\n",
        "criterion = torch.nn.CrossEntropyLoss()    # cross entropy loss\n",
        "optimizer = torch.optim.Adam(lstm.parameters(), lr=learning_rate)\n",
        "scheduler = torch.optim.lr_scheduler.ReduceLROnPlateau(optimizer, 'min', \n",
        "            factor=0.5, patience=10, min_lr=1e-15, verbose=True)\n",
        "# Decay LR by a factor of 0.1 every 7 epochs\n",
        "#scheduler = lr_scheduler.StepLR(optimizer_ft, step_size=5, gamma=0.1)\n",
        "\n",
        "lstm.train()\n",
        "\n",
        "for epoch in range(num_epochs):\n",
        "  if len(unsampled_indices) < batch_size:\n",
        "    unsampled_indices = range(0,len(X_train)) \n",
        "  batch_xs, raw_labels, unsampled_indicies = extract_batch_size(X_train, y_train, unsampled_indices, batch_size)\n",
        "  batch_ys = one_hot(raw_labels)\n",
        "\n",
        "  batch_xs = Variable(torch.Tensor(batch_xs))\n",
        "  batch_ys = Variable(torch.Tensor(batch_ys))\n",
        "\n",
        "  y_pred = lstm(batch_xs)\n",
        "  \n",
        "  # Obtain the loss function\n",
        "  loss = criterion(y_pred, batch_ys)\n",
        "  optimizer.zero_grad()\n",
        "  loss.backward()\n",
        "  optimizer.step()\n",
        "\n",
        "  running_corrects = 0\n",
        "\n",
        "  # Validate training\n",
        "  if epoch % val_interval == 0:\n",
        "    # Network in evaluation mode\n",
        "    lstm.eval()\n",
        "    with torch.no_grad():\n",
        "      if len(unsampled_indices_val) < batch_size:\n",
        "        unsampled_indices_val = range(0,len(X_val)) \n",
        "      batch_xs, raw_labels, unsampled_indices_val = extract_batch_size(X_val, y_val, unsampled_indices_val, batch_size)\n",
        "      batch_ys = one_hot(raw_labels)\n",
        "\n",
        "      batch_xs = Variable(torch.Tensor(batch_xs))\n",
        "      batch_ys = Variable(torch.Tensor(batch_ys))\n",
        "\n",
        "      y_pred = lstm(batch_xs)\n",
        "      pred = y_pred.max(1, keepdim=True)[1] # get the index of the max logit\n",
        "\n",
        "      raw_labels = Variable(torch.Tensor(raw_labels))\n",
        "      acc = torch.sum(pred == raw_labels)/batch_size\n",
        "\n",
        "      accuracies.append(acc.item())\n",
        "\n",
        "      val_loss = criterion(y_pred, batch_ys)\n",
        "      scheduler.step(val_loss) # Note that step should be called after validate()\n",
        "\n",
        "      val_losses.append(val_loss.item())\n",
        "      lstm.train()\n",
        "      train_losses = np.append(train_losses,loss.item())\n",
        "\n",
        "  # Plot for monitoring\n",
        "  if epoch % plot_interval == 0:\n",
        "    plot(epoch, train_losses, val_losses, accuracies)\n",
        "    #print(\"Epoch: %d, train loss: %1.5f, val loss: %1.5f and accurary\"  % (epoch, loss.item(), np.mean(val_losses[-10:]), acc.item()))\n",
        "    print(\"Best result : %1.5f, at epoch : %d\" % (best_result, best_epoch))\n",
        "    print(\"Running mean accuracy  : %1.5f\" % (np.mean(accuracies[-10:])))\n",
        "    \n",
        "  # Save the best model\n",
        "  if np.mean(accuracies[-10:]) > best_result:\n",
        "    best_result = np.mean(accuracies[-10:])\n",
        "    best_epoch = epoch\n",
        "    if not os.path.isdir(save_path):\n",
        "      os.makedirs(save_path)\n",
        "    ckpt_path = save_path +'/'+ 'model_epoch_'+str(best_epoch)+'acc'+str(np.mean(accuracies[-10:]))+'.pth.tar'\n",
        "    torch.save(lstm.state_dict(), ckpt_path)"
      ]
    },
    {
      "cell_type": "code",
      "execution_count": null,
      "metadata": {
        "id": "KQyp1eIGY9mj"
      },
      "outputs": [],
      "source": [
        "from sklearn.metrics import confusion_matrix\n",
        "import seaborn as sn\n",
        "import pandas as pd"
      ]
    },
    {
      "cell_type": "code",
      "execution_count": null,
      "metadata": {
        "id": "QFQybqBoRh2P",
        "colab": {
          "base_uri": "https://localhost:8080/"
        },
        "outputId": "c6bf2148-15d5-4561-917b-30c5a7adf113"
      },
      "outputs": [
        {
          "output_type": "stream",
          "name": "stdout",
          "text": [
            "range(0, 5751)\n",
            "0.0\n"
          ]
        }
      ],
      "source": [
        "# NN model\n",
        "input_size = 36\n",
        "hidden_size = 128\n",
        "num_layers = 1\n",
        "num_classes = 6\n",
        "\n",
        "lstm = LSTM(num_classes, input_size, hidden_size, num_layers)\n",
        "\n",
        "save_path = './save_model/'\n",
        "ckpt_path = save_path +'/'+ 'model_3.pth.tar'\n",
        "\n",
        "lstm.load_state_dict(torch.load(ckpt_path))\n",
        "lstm.eval()\n",
        "\n",
        "y_pred = []\n",
        "y_true = []\n",
        "\n",
        "unsampled_indices_val = range(0,len(X_val)) \n",
        "print (unsampled_indices_val)\n",
        "init_len = len(unsampled_indices_val)\n",
        "\n",
        "batch_size = init_len\n",
        "\n",
        "# iterate over test data\n",
        "while (1):\n",
        "  batch_xs, raw_labels, unsampled_indices_val = extract_batch_size(X_val, y_val, unsampled_indices_val, batch_size)\n",
        "\n",
        "  batch_xs = Variable(torch.Tensor(batch_xs))\n",
        "  pred = Variable(torch.Tensor(raw_labels))\n",
        "\n",
        "  pred = lstm(batch_xs)\n",
        "\n",
        "  #output = (torch.max(torch.exp(pred), 1)[1]).data.cpu().numpy()\n",
        "  output = pred.max(1, keepdim=True)[1].data.cpu().numpy()\n",
        "\n",
        "  #y_pred.append(output) # Save Prediction\n",
        "\n",
        "  #labels = labels.data.cpu().numpy()\n",
        "  #y_true.append(raw_labels) # Save Truth\n",
        "\n",
        "  print (len(unsampled_indices_val)*100/init_len)\n",
        "  if len(unsampled_indices_val) < batch_size:\n",
        "    break"
      ]
    },
    {
      "cell_type": "code",
      "source": [
        "# Output classes to learn how to classify\n",
        "LABELS = [    \n",
        "    \"JUMPING\",\n",
        "    \"JUMPING_JACKS\",\n",
        "    \"BOXING\",\n",
        "    \"WAVING_2HANDS\",\n",
        "    \"WAVING_1HAND\",\n",
        "    \"CLAPPING_HANDS\"]\n",
        "\n",
        "# Build confusion matrix\n",
        "cf_matrix = confusion_matrix(raw_labels, output)\n",
        "\n",
        "\n",
        "col = np.sum(cf_matrix, axis=0)\n",
        "col = np.transpose(col)\n",
        "cf_matrix = 100*cf_matrix / col\n",
        "\n",
        "\n",
        "print (np.round_(cf_matrix, decimals=1, out=None))\n",
        "\n",
        "\n",
        "# View confusion matrix\n",
        "width = 12\n",
        "height = 12\n",
        "plt.figure(figsize=(width, height))\n",
        "plt.imshow(\n",
        "    cf_matrix, \n",
        "    interpolation='nearest', \n",
        "    cmap=plt.cm.Blues\n",
        ")\n",
        "plt.title(\"Confusion matrix\")\n",
        "plt.colorbar()\n",
        "tick_marks = np.arange(num_classes)\n",
        "plt.xticks(tick_marks, LABELS, rotation=90)\n",
        "plt.yticks(tick_marks, LABELS)\n",
        "plt.tight_layout()\n",
        "plt.ylabel('True label')\n",
        "plt.xlabel('Predicted label')\n",
        "plt.show()\n",
        "\n",
        "# Save confusion matrix plot in a file\n",
        "pt_path = save_path +'/'+'output.png'\n",
        "plt.savefig(pt_path)\n",
        "plt.close"
      ],
      "metadata": {
        "colab": {
          "base_uri": "https://localhost:8080/",
          "height": 981
        },
        "id": "akn7-ThfYsgB",
        "outputId": "3aeb963d-a5f9-4153-e3f7-e7f04da10b7e"
      },
      "execution_count": null,
      "outputs": [
        {
          "output_type": "stream",
          "name": "stdout",
          "text": [
            "[[97.2  0.   0.   0.1  0.2  0.9]\n",
            " [ 0.  99.2  0.2  0.8  0.   0. ]\n",
            " [ 1.2  0.  97.   0.   0.   5.9]\n",
            " [ 0.6  0.6  0.  98.9  0.   0. ]\n",
            " [ 0.6  0.1  0.2  0.  99.8  0.7]\n",
            " [ 0.4  0.   2.7  0.2  0.  92.4]]\n"
          ]
        },
        {
          "output_type": "display_data",
          "data": {
            "text/plain": [
              "<Figure size 864x864 with 2 Axes>"
            ],
            "image/png": "[encoded data removed]"
          },
          "metadata": {}
        },
        {
          "output_type": "execute_result",
          "data": {
            "text/plain": [
              "<function matplotlib.pyplot.close>"
            ]
          },
          "metadata": {},
          "execution_count": 94
        },
        {
          "output_type": "display_data",
          "data": {
            "text/plain": [
              "<Figure size 432x288 with 0 Axes>"
            ]
          },
          "metadata": {}
        }
      ]
    }
  ],
  "metadata": {
    "colab": {
      "collapsed_sections": [],
      "name": "Human Action Recognition with LSTM Using PyTorch - RNN-HAR-2D-Pose-database.ipynb",
      "provenance": []
    },
    "kernelspec": {
      "display_name": "Python 3",
      "name": "python3"
    },
    "language_info": {
      "name": "python"
    }
  },
  "nbformat": 4,
  "nbformat_minor": 0
}